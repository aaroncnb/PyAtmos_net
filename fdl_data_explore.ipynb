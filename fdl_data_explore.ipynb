{
  "nbformat": 4,
  "nbformat_minor": 0,
  "metadata": {
    "colab": {
      "name": "fdl_data_explore.ipynb",
      "provenance": [],
      "collapsed_sections": [],
      "machine_shape": "hm",
      "include_colab_link": true
    },
    "kernelspec": {
      "name": "python3",
      "display_name": "Python 3"
    },
    "accelerator": "GPU"
  },
  "cells": [
    {
      "cell_type": "markdown",
      "metadata": {
        "id": "view-in-github",
        "colab_type": "text"
      },
      "source": [
        "<a href=\"https://colab.research.google.com/github/aaroncnb/PyAtmos_net/blob/master/fdl_data_explore.ipynb\" target=\"_parent\"><img src=\"https://colab.research.google.com/assets/colab-badge.svg\" alt=\"Open In Colab\"/></a>"
      ]
    },
    {
      "cell_type": "code",
      "metadata": {
        "id": "av1D0YfvJ8f8",
        "colab_type": "code",
        "outputId": "b41ae879-7b25-4a72-a0ab-283ce30f3fe8",
        "colab": {
          "base_uri": "https://localhost:8080/",
          "height": 124
        }
      },
      "source": [
        "import os\n",
        "from google.colab import drive\n",
        "drive.mount('/content/drive')\n"
      ],
      "execution_count": 1,
      "outputs": [
        {
          "output_type": "stream",
          "text": [
            "Go to this URL in a browser: https://accounts.google.com/o/oauth2/auth?client_id=947318989803-6bn6qk8qdgf4n4g3pfee6491hc0brc4i.apps.googleusercontent.com&redirect_uri=urn%3aietf%3awg%3aoauth%3a2.0%3aoob&response_type=code&scope=email%20https%3a%2f%2fwww.googleapis.com%2fauth%2fdocs.test%20https%3a%2f%2fwww.googleapis.com%2fauth%2fdrive%20https%3a%2f%2fwww.googleapis.com%2fauth%2fdrive.photos.readonly%20https%3a%2f%2fwww.googleapis.com%2fauth%2fpeopleapi.readonly\n",
            "\n",
            "Enter your authorization code:\n",
            "··········\n",
            "Mounted at /content/drive\n"
          ],
          "name": "stdout"
        }
      ]
    },
    {
      "cell_type": "code",
      "metadata": {
        "id": "PexbH3b3NyBw",
        "colab_type": "code",
        "colab": {
          "base_uri": "https://localhost:8080/",
          "height": 52
        },
        "outputId": "015472a2-f998-40a9-f2b7-b906fe29abfe"
      },
      "source": [
        "!ls"
      ],
      "execution_count": 5,
      "outputs": [
        {
          "output_type": "stream",
          "text": [
            "data   fdl_data_explore.ipynb\t  pyatmos_summary.csv\n",
            "dir_0  fdl_data_preprocess.ipynb  wget_bulk_download.bat\n"
          ],
          "name": "stdout"
        }
      ]
    },
    {
      "cell_type": "code",
      "metadata": {
        "id": "JyFUIHY0Z_Wt",
        "colab_type": "code",
        "colab": {
          "base_uri": "https://localhost:8080/",
          "height": 166
        },
        "outputId": "7464a249-eb83-42be-8cba-290859a76486"
      },
      "source": [
        "os.chdir(\"drive/My Drive/FDL_PyAtmos\")"
      ],
      "execution_count": 4,
      "outputs": [
        {
          "output_type": "error",
          "ename": "FileNotFoundError",
          "evalue": "ignored",
          "traceback": [
            "\u001b[0;31m---------------------------------------------------------------------------\u001b[0m",
            "\u001b[0;31mFileNotFoundError\u001b[0m                         Traceback (most recent call last)",
            "\u001b[0;32m<ipython-input-4-efeeabc4cfda>\u001b[0m in \u001b[0;36m<module>\u001b[0;34m()\u001b[0m\n\u001b[0;32m----> 1\u001b[0;31m \u001b[0mos\u001b[0m\u001b[0;34m.\u001b[0m\u001b[0mchdir\u001b[0m\u001b[0;34m(\u001b[0m\u001b[0;34m\"drive/My Drive/FDL_PyAtmos\"\u001b[0m\u001b[0;34m)\u001b[0m\u001b[0;34m\u001b[0m\u001b[0;34m\u001b[0m\u001b[0m\n\u001b[0m",
            "\u001b[0;31mFileNotFoundError\u001b[0m: [Errno 2] No such file or directory: 'drive/My Drive/FDL_PyAtmos'"
          ]
        }
      ]
    },
    {
      "cell_type": "markdown",
      "metadata": {
        "id": "8NDGvSe28-oK",
        "colab_type": "text"
      },
      "source": [
        ""
      ]
    },
    {
      "cell_type": "code",
      "metadata": {
        "id": "irf53wPIKOYv",
        "colab_type": "code",
        "colab": {}
      },
      "source": [
        "import numpy as np \n",
        "import pandas as pd \n",
        "import matplotlib.pyplot as plt\n",
        "%matplotlib inline\n",
        "\n",
        "import torch\n",
        "from torch.utils.data import DataLoader, Dataset\n",
        "import torchvision\n",
        "from torchvision import transforms\n",
        "from sklearn.preprocessing import MinMaxScaler\n",
        "\n",
        "import torch.nn.functional as F\n",
        "\n",
        "use_gpu = True\n",
        "\n",
        "input_size  = 10\n",
        "hidden_1_size = 8\n",
        "hidden_2_size = 4\n",
        "output_size = 2\n",
        "\n",
        "input_columns  = [\"input_CH4\", \"input_CO2\", \n",
        "                  \"input_H2\" , \"input_H2O\",\n",
        "                  \"input_O2\" , \"flux_CH4\" ,\n",
        "                  \"flux_CO2\" , \"flux_H2\"  ,\n",
        "                  \"flux_H2O\" , \"flux_O2\"    ]\n",
        "\n",
        "output_columns = [\"temperature_kelvin\", \"pressure_bar\"]"
      ],
      "execution_count": 0,
      "outputs": []
    },
    {
      "cell_type": "code",
      "metadata": {
        "id": "PIDuQTAaNI2W",
        "colab_type": "code",
        "outputId": "53d665b9-29f2-46e8-82fb-1d122e87b8cd",
        "colab": {
          "base_uri": "https://localhost:8080/",
          "height": 314
        }
      },
      "source": [
        "df_exotable = pd.read_csv('pyatmos_summary.csv')\n",
        "df_exotable.head(5)\n",
        "df_exotable.describe()\n"
      ],
      "execution_count": 10,
      "outputs": [
        {
          "output_type": "execute_result",
          "data": {
            "text/html": [
              "<div>\n",
              "<style scoped>\n",
              "    .dataframe tbody tr th:only-of-type {\n",
              "        vertical-align: middle;\n",
              "    }\n",
              "\n",
              "    .dataframe tbody tr th {\n",
              "        vertical-align: top;\n",
              "    }\n",
              "\n",
              "    .dataframe thead th {\n",
              "        text-align: right;\n",
              "    }\n",
              "</style>\n",
              "<table border=\"1\" class=\"dataframe\">\n",
              "  <thead>\n",
              "    <tr style=\"text-align: right;\">\n",
              "      <th></th>\n",
              "      <th>concentration_CH4</th>\n",
              "      <th>concentration_CO2</th>\n",
              "      <th>concentration_H2</th>\n",
              "      <th>concentration_H2O</th>\n",
              "      <th>concentration_O2</th>\n",
              "      <th>flux_CH4</th>\n",
              "      <th>flux_CO2</th>\n",
              "      <th>flux_H2</th>\n",
              "      <th>flux_H2O</th>\n",
              "      <th>flux_O2</th>\n",
              "      <th>input_CH4</th>\n",
              "      <th>input_CO2</th>\n",
              "      <th>input_H2</th>\n",
              "      <th>input_H2O</th>\n",
              "      <th>input_O2</th>\n",
              "      <th>pressure_bar</th>\n",
              "      <th>temperature_kelvin</th>\n",
              "    </tr>\n",
              "  </thead>\n",
              "  <tbody>\n",
              "    <tr>\n",
              "      <th>count</th>\n",
              "      <td>124314.000000</td>\n",
              "      <td>124314.000000</td>\n",
              "      <td>1.243140e+05</td>\n",
              "      <td>124314.000000</td>\n",
              "      <td>124314.000000</td>\n",
              "      <td>1.243140e+05</td>\n",
              "      <td>1.243140e+05</td>\n",
              "      <td>1.243140e+05</td>\n",
              "      <td>1.243140e+05</td>\n",
              "      <td>1.243140e+05</td>\n",
              "      <td>124314.000000</td>\n",
              "      <td>124314.000000</td>\n",
              "      <td>1.243140e+05</td>\n",
              "      <td>124314.000000</td>\n",
              "      <td>124314.000000</td>\n",
              "      <td>124314.000000</td>\n",
              "      <td>124314.000000</td>\n",
              "    </tr>\n",
              "    <tr>\n",
              "      <th>mean</th>\n",
              "      <td>0.016010</td>\n",
              "      <td>0.027211</td>\n",
              "      <td>1.113814e-02</td>\n",
              "      <td>0.012300</td>\n",
              "      <td>0.212116</td>\n",
              "      <td>5.658597e+14</td>\n",
              "      <td>-5.630317e+14</td>\n",
              "      <td>1.570561e+14</td>\n",
              "      <td>-5.884775e+12</td>\n",
              "      <td>1.283378e+15</td>\n",
              "      <td>0.016010</td>\n",
              "      <td>0.027211</td>\n",
              "      <td>1.113814e-02</td>\n",
              "      <td>0.102584</td>\n",
              "      <td>0.212116</td>\n",
              "      <td>1.086672</td>\n",
              "      <td>316.158537</td>\n",
              "    </tr>\n",
              "    <tr>\n",
              "      <th>std</th>\n",
              "      <td>0.017930</td>\n",
              "      <td>0.028440</td>\n",
              "      <td>2.245329e-02</td>\n",
              "      <td>0.000005</td>\n",
              "      <td>0.071413</td>\n",
              "      <td>4.807145e+14</td>\n",
              "      <td>4.803728e+14</td>\n",
              "      <td>3.108504e+14</td>\n",
              "      <td>9.854423e+12</td>\n",
              "      <td>1.029946e+15</td>\n",
              "      <td>0.017930</td>\n",
              "      <td>0.028440</td>\n",
              "      <td>2.245329e-02</td>\n",
              "      <td>0.116530</td>\n",
              "      <td>0.071413</td>\n",
              "      <td>0.037779</td>\n",
              "      <td>9.295048</td>\n",
              "    </tr>\n",
              "    <tr>\n",
              "      <th>min</th>\n",
              "      <td>0.000002</td>\n",
              "      <td>0.000400</td>\n",
              "      <td>6.400000e-08</td>\n",
              "      <td>0.012300</td>\n",
              "      <td>0.020000</td>\n",
              "      <td>4.450000e+09</td>\n",
              "      <td>-2.000000e+15</td>\n",
              "      <td>-1.500000e+13</td>\n",
              "      <td>-3.840000e+13</td>\n",
              "      <td>5.470000e+11</td>\n",
              "      <td>0.000002</td>\n",
              "      <td>0.000400</td>\n",
              "      <td>6.400000e-08</td>\n",
              "      <td>0.010000</td>\n",
              "      <td>0.020000</td>\n",
              "      <td>1.013100</td>\n",
              "      <td>251.240000</td>\n",
              "    </tr>\n",
              "    <tr>\n",
              "      <th>25%</th>\n",
              "      <td>0.000002</td>\n",
              "      <td>0.000400</td>\n",
              "      <td>8.000000e-08</td>\n",
              "      <td>0.012300</td>\n",
              "      <td>0.180000</td>\n",
              "      <td>1.660000e+11</td>\n",
              "      <td>-9.620000e+14</td>\n",
              "      <td>-9.030000e+12</td>\n",
              "      <td>-1.150000e+13</td>\n",
              "      <td>1.240000e+14</td>\n",
              "      <td>0.000002</td>\n",
              "      <td>0.000400</td>\n",
              "      <td>8.000000e-08</td>\n",
              "      <td>0.012300</td>\n",
              "      <td>0.180000</td>\n",
              "      <td>1.060400</td>\n",
              "      <td>311.460000</td>\n",
              "    </tr>\n",
              "    <tr>\n",
              "      <th>50%</th>\n",
              "      <td>0.010000</td>\n",
              "      <td>0.020000</td>\n",
              "      <td>8.200000e-08</td>\n",
              "      <td>0.012300</td>\n",
              "      <td>0.210000</td>\n",
              "      <td>5.940000e+14</td>\n",
              "      <td>-5.900000e+14</td>\n",
              "      <td>-4.860000e+12</td>\n",
              "      <td>-1.960000e+12</td>\n",
              "      <td>1.290000e+15</td>\n",
              "      <td>0.010000</td>\n",
              "      <td>0.020000</td>\n",
              "      <td>8.200000e-08</td>\n",
              "      <td>0.050000</td>\n",
              "      <td>0.210000</td>\n",
              "      <td>1.085600</td>\n",
              "      <td>318.230000</td>\n",
              "    </tr>\n",
              "    <tr>\n",
              "      <th>75%</th>\n",
              "      <td>0.020000</td>\n",
              "      <td>0.040000</td>\n",
              "      <td>1.000000e-02</td>\n",
              "      <td>0.012300</td>\n",
              "      <td>0.240000</td>\n",
              "      <td>9.650000e+14</td>\n",
              "      <td>-4.840000e+11</td>\n",
              "      <td>1.790000e+14</td>\n",
              "      <td>2.150000e+12</td>\n",
              "      <td>2.070000e+15</td>\n",
              "      <td>0.020000</td>\n",
              "      <td>0.040000</td>\n",
              "      <td>1.000000e-02</td>\n",
              "      <td>0.150000</td>\n",
              "      <td>0.240000</td>\n",
              "      <td>1.115200</td>\n",
              "      <td>322.970000</td>\n",
              "    </tr>\n",
              "    <tr>\n",
              "      <th>max</th>\n",
              "      <td>0.130000</td>\n",
              "      <td>0.400000</td>\n",
              "      <td>1.900000e-01</td>\n",
              "      <td>0.012400</td>\n",
              "      <td>0.900000</td>\n",
              "      <td>2.000000e+15</td>\n",
              "      <td>3.200000e+13</td>\n",
              "      <td>1.480000e+15</td>\n",
              "      <td>5.430000e+12</td>\n",
              "      <td>4.280000e+15</td>\n",
              "      <td>0.130000</td>\n",
              "      <td>0.400000</td>\n",
              "      <td>1.900000e-01</td>\n",
              "      <td>0.800000</td>\n",
              "      <td>0.900000</td>\n",
              "      <td>1.194100</td>\n",
              "      <td>332.050000</td>\n",
              "    </tr>\n",
              "  </tbody>\n",
              "</table>\n",
              "</div>"
            ],
            "text/plain": [
              "       concentration_CH4  concentration_CO2  ...   pressure_bar  temperature_kelvin\n",
              "count      124314.000000      124314.000000  ...  124314.000000       124314.000000\n",
              "mean            0.016010           0.027211  ...       1.086672          316.158537\n",
              "std             0.017930           0.028440  ...       0.037779            9.295048\n",
              "min             0.000002           0.000400  ...       1.013100          251.240000\n",
              "25%             0.000002           0.000400  ...       1.060400          311.460000\n",
              "50%             0.010000           0.020000  ...       1.085600          318.230000\n",
              "75%             0.020000           0.040000  ...       1.115200          322.970000\n",
              "max             0.130000           0.400000  ...       1.194100          332.050000\n",
              "\n",
              "[8 rows x 17 columns]"
            ]
          },
          "metadata": {
            "tags": []
          },
          "execution_count": 10
        }
      ]
    },
    {
      "cell_type": "markdown",
      "metadata": {
        "id": "Ar9_mr2EaMFV",
        "colab_type": "text"
      },
      "source": [
        ""
      ]
    },
    {
      "cell_type": "code",
      "metadata": {
        "id": "sHeX0Mn8aMY0",
        "colab_type": "code",
        "outputId": "c1a7aeda-0ed7-4389-d95f-00a2a8959c3d",
        "colab": {
          "base_uri": "https://localhost:8080/",
          "height": 52
        }
      },
      "source": [
        "df_exotable[input_columns].iloc[1222,:].values#.astype(np.uint8)\n"
      ],
      "execution_count": 11,
      "outputs": [
        {
          "output_type": "execute_result",
          "data": {
            "text/plain": [
              "array([ 5.00e-02,  2.00e-02,  5.00e-02,  3.00e-02,  2.40e-01,  9.09e+14,\n",
              "       -9.07e+14,  9.28e+14, -2.91e+13,  2.40e+15])"
            ]
          },
          "metadata": {
            "tags": []
          },
          "execution_count": 11
        }
      ]
    },
    {
      "cell_type": "code",
      "metadata": {
        "id": "sbrqgPKwAWeB",
        "colab_type": "code",
        "outputId": "c1715d8d-af9c-44c3-b013-49d6277b938d",
        "colab": {
          "base_uri": "https://localhost:8080/",
          "height": 52
        }
      },
      "source": [
        "class Dataset(object):\n",
        "    \"\"\"An abstract class representing a Dataset.\n",
        "    All other datasets should subclass it. All subclasses should override\n",
        "    ``__len__``, that provides the size of the dataset, and ``__getitem__``,\n",
        "    supporting integer indexing in range from 0 to len(self) exclusive.\n",
        "    \"\"\"\n",
        "\n",
        "    def __getitem__(self, index):\n",
        "        raise NotImplementedError\n",
        "\n",
        "    def __len__(self):\n",
        "        raise NotImplementedError\n",
        "\n",
        "    def __add__(self, other):\n",
        "        return ConcatDataset([self, other])\n",
        "\n",
        "class DatasetEXOATMOS(Dataset):\n",
        "    \n",
        "    def __init__(self, file_path, input_columns, output_columns, transform=None):\n",
        "\n",
        "        data    = pd.read_csv(file_path)\n",
        "        data    = data.drop([\"hash\"], axis=1)\n",
        "        columns = data.columns\n",
        "        scaler  = MinMaxScaler(feature_range=(-1, 1), copy=True)\n",
        "        \n",
        "        self.scaler         = scaler.fit(data[input_columns])\n",
        "        data[input_columns] = self.scaler.transform(data[input_columns])\n",
        "        self.data           = pd.DataFrame(data, columns= columns)\n",
        "        \n",
        "    def __len__(self):\n",
        "        return len(self.data)\n",
        "    \n",
        "    def __getitem__(self, index):\n",
        "\n",
        "        inputs = self.data[input_columns].iloc[index].values#.astype(np.uint8)#.reshape((1, 28, 28))\n",
        "        label  = self.data[output_columns].iloc[index].values\n",
        "            \n",
        "        return inputs, label\n",
        "\n",
        "train_dataset = DatasetEXOATMOS('pyatmos_summary.csv', input_columns, output_columns)\n",
        "\n",
        "train_size = int(0.8 * len(df_exotable))\n",
        "test_size  = len(df_exotable) - train_size\n",
        "#val_size   = int()\n",
        "\n",
        "train_dataset, test_dataset = torch.utils.data.random_split(train_dataset, [train_size, test_size])\n",
        "\n",
        "train_loader = DataLoader(train_dataset, batch_size = 128, shuffle = True)\n",
        "test_loader  = DataLoader(test_dataset, batch_size = 1024, shuffle = False)\n",
        "\n",
        "\n",
        "planet, label = train_dataset.__getitem__(0)\n",
        "\n",
        "planets_train, labels_train = next(iter(train_loader))\n",
        "planets_test,  labels_test  = next(iter(test_loader))\n",
        "\n",
        "\n",
        "\n",
        "planets_train = planets_train.float()\n",
        "planets_test  = planets_test.float()\n",
        "labels_train  = labels_train.float()\n",
        "labels_test   = labels_test.float()\n",
        "\n",
        "print('planets shape on batch size = {}'.format(planets_train.size()))\n",
        "print('labels shape on batch size = {}'.format(labels_train.size()))"
      ],
      "execution_count": 12,
      "outputs": [
        {
          "output_type": "stream",
          "text": [
            "planets shape on batch size = torch.Size([128, 10])\n",
            "labels shape on batch size = torch.Size([128, 2])\n"
          ],
          "name": "stdout"
        }
      ]
    },
    {
      "cell_type": "code",
      "metadata": {
        "id": "PnBoT7rIGG6I",
        "colab_type": "code",
        "colab": {}
      },
      "source": [
        "class Feedforward(torch.nn.Module):\n",
        "        def __init__(self, input_size, hidden_1_size, hidden_2_size, output_size):\n",
        "            \n",
        "            super(Feedforward, self).__init__()\n",
        "\n",
        "            self.input_size    = input_size\n",
        "            self.hidden_1_size = hidden_1_size\n",
        "            self.hidden_2_size = hidden_2_size\n",
        "            self.output_size   = output_size\n",
        "            self.fc1           = torch.nn.Linear(self.input_size, self.hidden_1_size)\n",
        "            #self.relu          = torch.nn.ReLU()\n",
        "            self.relu          = torch.nn.LeakyReLU()\n",
        "            self.fc2           = torch.nn.Linear(self.hidden_1_size, self.hidden_2_size)\n",
        "            self.sigmoid       = torch.nn.Sigmoid()\n",
        "            self.fc3           = torch.nn.Linear(self.hidden_2_size, self.output_size)\n",
        "\n",
        "\n",
        "        def forward(self, x):\n",
        "\n",
        "            hidden1 = self.fc1(x)\n",
        "            relu1   = self.relu(hidden1)\n",
        "            hidden2 = self.fc2(relu1)\n",
        "            relu2   = self.relu(hidden2)\n",
        "            output  = self.fc3(relu2)\n",
        "\n",
        "            # hidden1 = self.fc1(x)\n",
        "            # relu1   = self.relu(hidden1)\n",
        "            # hidden2 = self.fc2(relu1)\n",
        "            # relu2   = self.relu(hidden2)\n",
        "            # output  = self.fc3(relu2)\n",
        "\n",
        "\n",
        "\n",
        "            return output"
      ],
      "execution_count": 0,
      "outputs": []
    },
    {
      "cell_type": "code",
      "metadata": {
        "id": "FvxVn3HjjNMc",
        "colab_type": "code",
        "colab": {}
      },
      "source": [
        ""
      ],
      "execution_count": 0,
      "outputs": []
    },
    {
      "cell_type": "code",
      "metadata": {
        "id": "Ck7PcOBSjv38",
        "colab_type": "code",
        "outputId": "ac135e7c-f3b8-427a-8408-e503e904fed0",
        "colab": {
          "base_uri": "https://localhost:8080/",
          "height": 279
        }
      },
      "source": [
        "\n",
        "model     = Feedforward(input_size, hidden_1_size, hidden_2_size, output_size)\n",
        "#criterion = torch.nn.MSELoss() # Mean squared error since we're using continuous variables\n",
        "criterion = torch.nn.L1Loss() # Mean abs error, used mainly in regression problems.\n",
        "\n",
        "# model.eval()\n",
        "# y_pred       = model(planets_test)\n",
        "# before_train = criterion(y_pred.squeeze(), labels_test)\n",
        "# print('Test loss before training' , before_train.item())\n",
        "\n",
        "if use_gpu:\n",
        "    model = model.cuda()\n",
        "\n",
        "#optimizer = torch.optim.SGD(model.parameters(), lr = 0.0001)\n",
        "\n",
        "optimizer = torch.optim.Adam(model.parameters(), lr = 0.0001)\n",
        "\n",
        "def train(model, data_train, labels_train, optimizer, criterion, epochs = 200):\n",
        "\n",
        "    lst_train_losses = []\n",
        "    lst_perc_errors  = []\n",
        "    \n",
        "    model.train()\n",
        "\n",
        "    if use_gpu:\n",
        "        #model = model.cuda()\n",
        "        data_train    = data_train.cuda()\n",
        "        labels_train  = labels_train.cuda()\n",
        "\n",
        "    for epoch in range(epochs):\n",
        "        optimizer.zero_grad()\n",
        "        # Forward pass\n",
        "        y_pred = model(data_train)\n",
        "        # Compute Loss\n",
        "        loss = criterion(y_pred.squeeze(), labels_train)\n",
        "\n",
        "        perc_error = torch.mean(torch.abs(y_pred.squeeze() - labels_train)/labels_train)*100.0\n",
        "\n",
        "        \n",
        "    \n",
        "        #print('Epoch {}: train loss: {}'.format(epoch, loss.item()))\n",
        "        # Backward pass\n",
        "        loss.backward()\n",
        "        optimizer.step()\n",
        "\n",
        "        lst_train_losses.append(loss)\n",
        "        lst_perc_errors.append(perc_error)\n",
        "\n",
        "    # plt.plot(range(epochs), train_losses)\n",
        "    # plt.plot\n",
        "    #perc_error = lst_train_losses / labels_train * 100.0\n",
        "    fig, ax1 = plt.subplots()\n",
        "\n",
        "    ax2 = ax1.twinx()\n",
        "    ax1.plot(range(epochs), lst_train_losses, 'g-')\n",
        "    ax2.plot(range(epochs), lst_perc_errors, 'b-')\n",
        "\n",
        "    ax1.set_xlabel('Epoch')\n",
        "    ax1.set_ylabel('Loss (MAbs)', color='g')\n",
        "    ax2.set_ylabel('% Error',     color='b')\n",
        "\n",
        "    plt.show()\n",
        "\n",
        "    return model, lst_train_losses\n",
        "\n",
        "model, train_losses = train(model, planets_train, labels_train, optimizer, criterion, epochs = 50000) \n",
        "\n"
      ],
      "execution_count": 33,
      "outputs": [
        {
          "output_type": "display_data",
          "data": {
            "image/png": "[encoded data removed]",
            "text/plain": [
              "<Figure size 432x288 with 2 Axes>"
            ]
          },
          "metadata": {
            "tags": [],
            "needs_background": "light"
          }
        }
      ]
    },
    {
      "cell_type": "code",
      "metadata": {
        "id": "7B3watSLnDz-",
        "colab_type": "code",
        "colab": {}
      },
      "source": [
        "def test(model, test_loader):\n",
        "\n",
        "    model.eval()\n",
        "    test_loss = 0\n",
        "    correct   = 0\n",
        "\n",
        "    with torch.no_grad():\n",
        "        for data, target in test_loader:\n",
        "\n",
        "            data   = data.float()\n",
        "            target = target.float()\n",
        "            data, target = data.cuda(), target.cuda()\n",
        "            output       = model(data)\n",
        "            test_loss   += F.mse_loss(output, target, reduction='sum').item() # sum up batch loss\n",
        "\n",
        "    test_loss /= len(test_loader.dataset)\n",
        "\n",
        "    print('Test set: Average loss: {:.4f}'.format(test_loss))"
      ],
      "execution_count": 0,
      "outputs": []
    },
    {
      "cell_type": "code",
      "metadata": {
        "id": "yzjSu3AflJzz",
        "colab_type": "code",
        "colab": {}
      },
      "source": [
        "#test(model, test_loader)"
      ],
      "execution_count": 0,
      "outputs": []
    },
    {
      "cell_type": "code",
      "metadata": {
        "id": "U0I-SnV2dHvI",
        "colab_type": "code",
        "colab": {}
      },
      "source": [
        "model_cpu = model.cpu()"
      ],
      "execution_count": 0,
      "outputs": []
    },
    {
      "cell_type": "code",
      "metadata": {
        "id": "gtr8k_3us6dR",
        "colab_type": "code",
        "colab": {}
      },
      "source": [
        "def infer(planet, model):\n",
        "\n",
        "    model.eval()\n",
        "\n",
        "    label = model(planet.float())\n",
        "\n",
        "    \" For planet features {}, returned output characters of {}\"\n",
        "    return label"
      ],
      "execution_count": 0,
      "outputs": []
    },
    {
      "cell_type": "code",
      "metadata": {
        "id": "XpRTbT8ClRLz",
        "colab_type": "code",
        "outputId": "145af8e3-ecf2-4711-ded7-acf586734cf0",
        "colab": {
          "base_uri": "https://localhost:8080/",
          "height": 156
        }
      },
      "source": [
        "\n",
        "#data    = pd.read_csv(file_path)\n",
        "#data    = data.drop([\"hash\"], axis=1)\n",
        "#columns = data.columns\n",
        "planet = df_exotable[input_columns].iloc[test_dataset.indices,:].values\n",
        "#planet = planet.reshape(1,-1)\n",
        "scaler = MinMaxScaler(feature_range=(-1, 1), copy=True)        \n",
        "scaler = scaler.fit(planet)\n",
        "planet = scaler.transform(planet)\n",
        "planet = torch.tensor(planet)\n",
        "planet"
      ],
      "execution_count": 48,
      "outputs": [
        {
          "output_type": "execute_result",
          "data": {
            "text/plain": [
              "tensor([[-1.0000, -0.8018, -1.0000,  ..., -0.9798,  0.8944, -0.9997],\n",
              "        [-1.0000, -1.0000, -0.8824,  ..., -0.9015,  0.9136, -0.9858],\n",
              "        [-0.8462, -0.9019, -1.0000,  ..., -0.9903,  0.7217, -0.3855],\n",
              "        ...,\n",
              "        [-1.0000, -1.0000, -1.0000,  ..., -0.9798,  0.9671, -0.9999],\n",
              "        [-1.0000, -0.9019, -1.0000,  ..., -0.9798,  0.9154, -0.9997],\n",
              "        [-1.0000, -0.9019, -1.0000,  ..., -0.9798,  0.9094, -0.9997]],\n",
              "       dtype=torch.float64)"
            ]
          },
          "metadata": {
            "tags": []
          },
          "execution_count": 48
        }
      ]
    },
    {
      "cell_type": "code",
      "metadata": {
        "id": "mPvexQbsvsH4",
        "colab_type": "code",
        "outputId": "12632c55-cc3e-449d-fe55-ed4ee0d3e21c",
        "colab": {
          "base_uri": "https://localhost:8080/",
          "height": 139
        }
      },
      "source": [
        "test_predictions = infer(planet, model_cpu)\n",
        "test_predictions"
      ],
      "execution_count": 62,
      "outputs": [
        {
          "output_type": "execute_result",
          "data": {
            "text/plain": [
              "tensor([[321.5211,   1.0819],\n",
              "        [327.1137,   1.0821],\n",
              "        [320.4917,   1.0887],\n",
              "        ...,\n",
              "        [288.9837,   1.0753],\n",
              "        [313.8700,   1.0800],\n",
              "        [332.3143,   1.0827]], grad_fn=<AddmmBackward>)"
            ]
          },
          "metadata": {
            "tags": []
          },
          "execution_count": 62
        }
      ]
    },
    {
      "cell_type": "code",
      "metadata": {
        "id": "QlKMcarPeA8B",
        "colab_type": "code",
        "outputId": "04033b7d-0e60-42bd-92f5-b43fdf65c5dd",
        "colab": {
          "base_uri": "https://localhost:8080/",
          "height": 139
        }
      },
      "source": [
        "test_groundtruth = torch.tensor(df_exotable[output_columns].iloc[test_dataset.indices].values)\n",
        "test_groundtruth"
      ],
      "execution_count": 63,
      "outputs": [
        {
          "output_type": "execute_result",
          "data": {
            "text/plain": [
              "tensor([[314.2100,   1.0859],\n",
              "        [293.6900,   1.0293],\n",
              "        [319.6900,   1.0679],\n",
              "        ...,\n",
              "        [287.5100,   1.0306],\n",
              "        [306.9100,   1.0294],\n",
              "        [307.6800,   1.0306]], dtype=torch.float64)"
            ]
          },
          "metadata": {
            "tags": []
          },
          "execution_count": 63
        }
      ]
    },
    {
      "cell_type": "code",
      "metadata": {
        "id": "YfGc2NxucJP6",
        "colab_type": "code",
        "colab": {
          "base_uri": "https://localhost:8080/",
          "height": 139
        },
        "outputId": "fba818c0-13b7-4a4c-ed9a-e55baf38f5d3"
      },
      "source": [
        "test_perc_errors = ((test_groundtruth - test_predictions) / test_groundtruth ) * 100.0\n",
        "test_perc_errors"
      ],
      "execution_count": 67,
      "outputs": [
        {
          "output_type": "execute_result",
          "data": {
            "text/plain": [
              "tensor([[ -2.3268,   0.3712],\n",
              "        [-11.3806,  -5.1337],\n",
              "        [ -0.2508,  -1.9510],\n",
              "        ...,\n",
              "        [ -0.5126,  -4.3382],\n",
              "        [ -2.2678,  -4.9146],\n",
              "        [ -8.0065,  -5.0587]], dtype=torch.float64, grad_fn=<MulBackward0>)"
            ]
          },
          "metadata": {
            "tags": []
          },
          "execution_count": 67
        }
      ]
    },
    {
      "cell_type": "code",
      "metadata": {
        "id": "4EkS6JogdCC3",
        "colab_type": "code",
        "colab": {
          "base_uri": "https://localhost:8080/",
          "height": 283
        },
        "outputId": "c8e1c94c-9bf1-46a8-e529-4f19427070ae"
      },
      "source": [
        "plt.hist(test_perc_errors.detach().numpy(),color=['blue','green'], label=['Temp err.', 'Press. err'])\n",
        "plt.legend()"
      ],
      "execution_count": 76,
      "outputs": [
        {
          "output_type": "execute_result",
          "data": {
            "text/plain": [
              "<matplotlib.legend.Legend at 0x7f5f860b6c88>"
            ]
          },
          "metadata": {
            "tags": []
          },
          "execution_count": 76
        },
        {
          "output_type": "display_data",
          "data": {
            "image/png": "[encoded data removed]",
            "text/plain": [
              "<Figure size 432x288 with 1 Axes>"
            ]
          },
          "metadata": {
            "tags": [],
            "needs_background": "light"
          }
        }
      ]
    },
    {
      "cell_type": "code",
      "metadata": {
        "id": "uyO_I7T3e9kV",
        "colab_type": "code",
        "colab": {
          "base_uri": "https://localhost:8080/",
          "height": 415
        },
        "outputId": "24f9a4de-0b45-4a7f-d11c-cbbe3af35538"
      },
      "source": [
        "test_dataset.dataset.data[output_columns]"
      ],
      "execution_count": 55,
      "outputs": [
        {
          "output_type": "execute_result",
          "data": {
            "text/html": [
              "<div>\n",
              "<style scoped>\n",
              "    .dataframe tbody tr th:only-of-type {\n",
              "        vertical-align: middle;\n",
              "    }\n",
              "\n",
              "    .dataframe tbody tr th {\n",
              "        vertical-align: top;\n",
              "    }\n",
              "\n",
              "    .dataframe thead th {\n",
              "        text-align: right;\n",
              "    }\n",
              "</style>\n",
              "<table border=\"1\" class=\"dataframe\">\n",
              "  <thead>\n",
              "    <tr style=\"text-align: right;\">\n",
              "      <th></th>\n",
              "      <th>temperature_kelvin</th>\n",
              "      <th>pressure_bar</th>\n",
              "    </tr>\n",
              "  </thead>\n",
              "  <tbody>\n",
              "    <tr>\n",
              "      <th>0</th>\n",
              "      <td>320.29</td>\n",
              "      <td>1.0629</td>\n",
              "    </tr>\n",
              "    <tr>\n",
              "      <th>1</th>\n",
              "      <td>320.26</td>\n",
              "      <td>1.1183</td>\n",
              "    </tr>\n",
              "    <tr>\n",
              "      <th>2</th>\n",
              "      <td>320.21</td>\n",
              "      <td>1.1036</td>\n",
              "    </tr>\n",
              "    <tr>\n",
              "      <th>3</th>\n",
              "      <td>313.87</td>\n",
              "      <td>1.0685</td>\n",
              "    </tr>\n",
              "    <tr>\n",
              "      <th>4</th>\n",
              "      <td>322.48</td>\n",
              "      <td>1.1177</td>\n",
              "    </tr>\n",
              "    <tr>\n",
              "      <th>...</th>\n",
              "      <td>...</td>\n",
              "      <td>...</td>\n",
              "    </tr>\n",
              "    <tr>\n",
              "      <th>124309</th>\n",
              "      <td>324.08</td>\n",
              "      <td>1.1072</td>\n",
              "    </tr>\n",
              "    <tr>\n",
              "      <th>124310</th>\n",
              "      <td>316.41</td>\n",
              "      <td>1.1041</td>\n",
              "    </tr>\n",
              "    <tr>\n",
              "      <th>124311</th>\n",
              "      <td>316.89</td>\n",
              "      <td>1.0964</td>\n",
              "    </tr>\n",
              "    <tr>\n",
              "      <th>124312</th>\n",
              "      <td>314.88</td>\n",
              "      <td>1.0532</td>\n",
              "    </tr>\n",
              "    <tr>\n",
              "      <th>124313</th>\n",
              "      <td>319.75</td>\n",
              "      <td>1.1035</td>\n",
              "    </tr>\n",
              "  </tbody>\n",
              "</table>\n",
              "<p>124314 rows × 2 columns</p>\n",
              "</div>"
            ],
            "text/plain": [
              "        temperature_kelvin  pressure_bar\n",
              "0                   320.29        1.0629\n",
              "1                   320.26        1.1183\n",
              "2                   320.21        1.1036\n",
              "3                   313.87        1.0685\n",
              "4                   322.48        1.1177\n",
              "...                    ...           ...\n",
              "124309              324.08        1.1072\n",
              "124310              316.41        1.1041\n",
              "124311              316.89        1.0964\n",
              "124312              314.88        1.0532\n",
              "124313              319.75        1.1035\n",
              "\n",
              "[124314 rows x 2 columns]"
            ]
          },
          "metadata": {
            "tags": []
          },
          "execution_count": 55
        }
      ]
    },
    {
      "cell_type": "code",
      "metadata": {
        "id": "DCjFZlpqaKo5",
        "colab_type": "code",
        "colab": {}
      },
      "source": [
        ""
      ],
      "execution_count": 0,
      "outputs": []
    }
  ]
}